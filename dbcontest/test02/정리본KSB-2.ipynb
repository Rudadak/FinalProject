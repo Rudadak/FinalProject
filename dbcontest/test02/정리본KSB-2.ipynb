{
 "cells": [
  {
   "cell_type": "markdown",
   "id": "88c39694",
   "metadata": {},
   "source": [
    "# library loading"
   ]
  },
  {
   "cell_type": "code",
   "execution_count": 5,
   "id": "7b16de6b",
   "metadata": {
    "ExecuteTime": {
     "end_time": "2023-01-31T05:05:39.348767Z",
     "start_time": "2023-01-31T05:05:30.361678Z"
    }
   },
   "outputs": [
    {
     "name": "stderr",
     "output_type": "stream",
     "text": [
      "The tokenizer class you load from this checkpoint is not the same type as the class this function is called from. It may result in unexpected tokenization. \n",
      "The tokenizer class you load from this checkpoint is 'BertTokenizer'. \n",
      "The class this function is called from is 'KoBertTokenizer'.\n"
     ]
    }
   ],
   "source": [
    "#!pip install ko-sentence-transformers \n",
    "from sentence_transformers import SentenceTransformer, models\n",
    "from ko_sentence_transformers.models import KoBertTransformer\n",
    "\n",
    "# Model loading\n",
    "word_embedding_model = KoBertTransformer(\"monologg/kobert\", max_seq_length=75)\n",
    "pooling_model = models.Pooling(word_embedding_model.get_word_embedding_dimension(), pooling_mode='mean')\n",
    "model = SentenceTransformer(modules=[word_embedding_model, pooling_model])\n",
    "\n",
    "from sentence_transformers import SentenceTransformer, util\n",
    "import numpy as np  \n",
    "import pandas as pd\n",
    "\n",
    "# embedder loading\n",
    "embedder = SentenceTransformer(\"jhgan/ko-sbert-sts\")"
   ]
  },
  {
   "cell_type": "markdown",
   "id": "e0ba2b74",
   "metadata": {},
   "source": [
    "# data loading"
   ]
  },
  {
   "cell_type": "code",
   "execution_count": 6,
   "id": "754b52e5",
   "metadata": {
    "ExecuteTime": {
     "end_time": "2023-01-31T05:05:39.766110Z",
     "start_time": "2023-01-31T05:05:39.662686Z"
    }
   },
   "outputs": [],
   "source": [
    "# 데이터 불러오기\n",
    "df = pd.read_csv('DBdata.csv')  # 경로 수정"
   ]
  },
  {
   "cell_type": "markdown",
   "id": "1a97b457",
   "metadata": {},
   "source": [
    "# 기본 수행"
   ]
  },
  {
   "cell_type": "code",
   "execution_count": 7,
   "id": "1e3cdd3c",
   "metadata": {
    "ExecuteTime": {
     "end_time": "2023-01-31T05:16:46.330607Z",
     "start_time": "2023-01-31T05:05:41.124596Z"
    }
   },
   "outputs": [],
   "source": [
    "# 전체 카테고리(tot)\n",
    "## corpus\n",
    "texts = ''\n",
    "for line in df.rv[:]:\n",
    "    texts = texts + line\n",
    "text = list(filter(None, texts.split(sep='\\n')))\n",
    "## embedding\n",
    "tot_corpus = text\n",
    "tot_embedding = embedder.encode(tot_corpus, convert_to_tensor = True)"
   ]
  },
  {
   "cell_type": "code",
   "execution_count": 8,
   "id": "68208d6b",
   "metadata": {
    "ExecuteTime": {
     "end_time": "2023-01-31T05:28:18.716279Z",
     "start_time": "2023-01-31T05:16:46.332602Z"
    }
   },
   "outputs": [],
   "source": [
    "# 기초케어 카테고리(bas)\n",
    "## 범위 split\n",
    "fir = df[df['cate'] == '토너'].index[0]\n",
    "las = df[df['cate'] == '미스트'].index[-1]\n",
    "## corpus\n",
    "texts = ''\n",
    "for line in df.rv[fir:las]:\n",
    "    texts = texts + line\n",
    "text = list(filter(None, texts.split(sep='\\n')))\n",
    "\n",
    "## embedding\n",
    "bas_corpus = text\n",
    "bas_embedding = embedder.encode(bas_corpus, convert_to_tensor = True)"
   ]
  },
  {
   "cell_type": "code",
   "execution_count": 9,
   "id": "9b81c73b",
   "metadata": {
    "ExecuteTime": {
     "end_time": "2023-01-31T05:39:49.340589Z",
     "start_time": "2023-01-31T05:28:18.718022Z"
    }
   },
   "outputs": [],
   "source": [
    "# 색조케어 카테고리(col)\n",
    "## 범위 split\n",
    "fir = df[df['cate'] == '립'].index[0]\n",
    "las = df[df['cate'] == '아이'].index[-1]\n",
    "## corpus\n",
    "texts = ''\n",
    "for line in df.rv[fir:las]:\n",
    "    texts = texts + line\n",
    "text = list(filter(None, texts.split(sep='\\n')))\n",
    "\n",
    "## embedding\n",
    "col_corpus = text\n",
    "col_embedding = embedder.encode(col_corpus, convert_to_tensor = True)"
   ]
  },
  {
   "cell_type": "markdown",
   "id": "aae227cf",
   "metadata": {},
   "source": [
    "# 필요한 작업 수행"
   ]
  },
  {
   "cell_type": "code",
   "execution_count": 23,
   "id": "c9c1036c",
   "metadata": {
    "ExecuteTime": {
     "end_time": "2023-01-31T05:46:34.894568Z",
     "start_time": "2023-01-31T05:46:34.870637Z"
    }
   },
   "outputs": [],
   "source": [
    "# 출력폼 함수\n",
    "def menu():\n",
    "    print('-'*30)\n",
    "    print('★원하는 카테고리를 선택해주세요★')\n",
    "    print('1. 전체')\n",
    "    print('2. 기초')\n",
    "    print('3. 색조')\n",
    "    print('-'*30)\n",
    "    embed, corpus, cate = choice_cate()\n",
    "    return embed, corpus, cate \n",
    "    \n",
    "    \n",
    "# 카테고리 선택 함수\n",
    "def choice_cate():\n",
    "    num = int(input('→ '))\n",
    "    if num == 1:\n",
    "        embed = tot_embedding\n",
    "        corpus = tot_corpus\n",
    "        cate = '전체'\n",
    "    elif num == 2:\n",
    "        embed = bas_embedding\n",
    "        corpus = bas_corpus\n",
    "        cate = '기초'\n",
    "    elif num == 3:\n",
    "        embed = col_embedding\n",
    "        corpus = col_corpus\n",
    "        cate = '색조'\n",
    "    else:\n",
    "        print('잘못된 선택입니다. 1~3 사이의 숫자로 입력해주세요.')\n",
    "        return menu()\n",
    "    return embed, corpus, cate\n",
    "        \n",
    "\n",
    "# 유사 문장 리턴함수\n",
    "def num_return(query, embed, corpus, cate):\n",
    "\n",
    "    cate_embedding = embed\n",
    "    # 유사도 평가를 위한 작업\n",
    "    query_embedding = embedder.encode(query, convert_to_tensor=True)\n",
    "    cos_scores = util.pytorch_cos_sim(query_embedding, cate_embedding)[0]\n",
    "    cos_scores = cos_scores.cpu()\n",
    "    # 상위 결과 추출\n",
    "    top_results = np.argpartition(-cos_scores, range(5))[0:5]\n",
    "    print(\"\\n▽▽▽▽▽▽▽▽▽▽▽▽▽▽▽▽▽▽▽\\n\")\n",
    "    print(\"요청 문장:\", query)\n",
    "    print(f\"🌼{cate} 카테고리의 리뷰들 중 가장 유사한 5개 리뷰문장🌼\\n\")\n",
    "    for v, idx in enumerate(top_results[0:5]):\n",
    "        text = corpus[idx].strip() \n",
    "        for i in range(3344):\n",
    "            if text in df['rv'][i]:\n",
    "                pname = df['pname'][i]\n",
    "        print(v+1, pname, '\\n','▶',text, \"(Score: %.4f)\" % (cos_scores[idx]))\n",
    "    print(\"\\n△△△△△△△△△△△△△△△△△△\\n\")\n",
    "\n",
    "        \n",
    "        \n",
    "def play_rv():\n",
    "    query= str(input('검색하기 : '))\n",
    "    embed, corpus, cate = menu()\n",
    "    num_return(query, embed, corpus, cate)"
   ]
  },
  {
   "cell_type": "code",
   "execution_count": 40,
   "id": "f9d6ed03",
   "metadata": {
    "ExecuteTime": {
     "end_time": "2023-01-31T06:01:22.301523Z",
     "start_time": "2023-01-31T06:01:14.189224Z"
    }
   },
   "outputs": [
    {
     "name": "stdout",
     "output_type": "stream",
     "text": [
      "검색하기 : 장미향 수분크림\n",
      "------------------------------\n",
      "★원하는 카테고리를 선택해주세요★\n",
      "1. 전체\n",
      "2. 기초\n",
      "3. 색조\n",
      "------------------------------\n",
      "→ 1\n",
      "\n",
      "▽▽▽▽▽▽▽▽▽▽▽▽▽▽▽▽▽▽\n",
      "\n",
      "요청 문장: 장미향 수분크림\n",
      "▶전체카테고리의 리뷰들 중 가장 유사한 5개 리뷰문장◀\n",
      "\n",
      "0 에스트라 아토베리어365 크림 기프트 세트(크림 80ml*2+로션 60ml+하이드로에센스 40ml) \n",
      " ▶ 🍀 촉촉한 타입의 수분 에센스 (Score: 0.7792)\n",
      "1 비욘드 엔젤아쿠아 수분 진정 크림 150ml 1+1 기획 (비건) \n",
      " ▶ 딱 수분을 채워주는 순한 수분크림이기 때문에 (Score: 0.7633)\n",
      "2 [메이크업아티스트Pick] 에스테덤 셀룰러 워터 미스트 200ml (항산화 미스트) \n",
      " ▶ 에스테덤 셀룰러 워터 미스트는 촉촉함이 잘 유지 되는것 같네요. (Score: 0.7571)\n",
      "3 [메이크업아티스트Pick] 에스테덤 셀룰러 워터 미스트 200ml (항산화 미스트) \n",
      " ▶ 물미스트인데 촉촉하구 보습력 좋아요 (Score: 0.7491)\n",
      "4 [단독기획] 토리든 다이브인 저분자 히알루론산 수딩크림 더블기획(100ml+100ml) \n",
      " ▶ 이 제품은 수분크림의 정석 같아요😀 (Score: 0.7448)\n"
     ]
    }
   ],
   "source": [
    "play_rv2()"
   ]
  },
  {
   "cell_type": "code",
   "execution_count": null,
   "id": "84b1cb10",
   "metadata": {},
   "outputs": [],
   "source": []
  }
 ],
 "metadata": {
  "hide_input": false,
  "kernelspec": {
   "display_name": "Python 3",
   "language": "python",
   "name": "python3"
  },
  "language_info": {
   "codemirror_mode": {
    "name": "ipython",
    "version": 3
   },
   "file_extension": ".py",
   "mimetype": "text/x-python",
   "name": "python",
   "nbconvert_exporter": "python",
   "pygments_lexer": "ipython3",
   "version": "3.9.15 (main, Nov 24 2022, 14:39:17) [MSC v.1916 64 bit (AMD64)]"
  },
  "toc": {
   "base_numbering": 1,
   "nav_menu": {},
   "number_sections": true,
   "sideBar": true,
   "skip_h1_title": false,
   "title_cell": "Table of Contents",
   "title_sidebar": "Contents",
   "toc_cell": false,
   "toc_position": {},
   "toc_section_display": true,
   "toc_window_display": false
  },
  "vscode": {
   "interpreter": {
    "hash": "e4cce46d6be9934fbd27f9ca0432556941ea5bdf741d4f4d64c6cd7f8dfa8fba"
   }
  }
 },
 "nbformat": 4,
 "nbformat_minor": 5
}
